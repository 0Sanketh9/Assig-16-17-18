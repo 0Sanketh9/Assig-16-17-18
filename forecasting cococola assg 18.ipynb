{
 "cells": [
  {
   "cell_type": "code",
   "execution_count": 1,
   "id": "bb7c83c7",
   "metadata": {
    "ExecuteTime": {
     "end_time": "2022-03-26T09:04:27.970308Z",
     "start_time": "2022-03-26T09:04:26.138525Z"
    }
   },
   "outputs": [],
   "source": [
    " import pandas as pd\n"
   ]
  },
  {
   "cell_type": "code",
   "execution_count": 2,
   "id": "06f45fb4",
   "metadata": {
    "ExecuteTime": {
     "end_time": "2022-03-26T09:04:32.000527Z",
     "start_time": "2022-03-26T09:04:30.634971Z"
    }
   },
   "outputs": [],
   "source": [
    "cococola= pd.read_excel(\"CocaCola_Sales_Rawdata.xlsx\")\n"
   ]
  },
  {
   "cell_type": "code",
   "execution_count": 3,
   "id": "66ba6cde",
   "metadata": {
    "ExecuteTime": {
     "end_time": "2022-03-26T09:08:52.610332Z",
     "start_time": "2022-03-26T09:08:51.333219Z"
    }
   },
   "outputs": [
    {
     "name": "stderr",
     "output_type": "stream",
     "text": [
      "<ipython-input-3-ec03b86c142c>:10: SettingWithCopyWarning: \n",
      "A value is trying to be set on a copy of a slice from a DataFrame\n",
      "\n",
      "See the caveats in the documentation: https://pandas.pydata.org/pandas-docs/stable/user_guide/indexing.html#returning-a-view-versus-a-copy\n",
      "  cococola['quarter'][i]=n[0:2]\n",
      "C:\\Users\\DELL\\anaconda3\\lib\\site-packages\\pandas\\core\\indexing.py:1637: SettingWithCopyWarning: \n",
      "A value is trying to be set on a copy of a slice from a DataFrame\n",
      "\n",
      "See the caveats in the documentation: https://pandas.pydata.org/pandas-docs/stable/user_guide/indexing.html#returning-a-view-versus-a-copy\n",
      "  self._setitem_single_block(indexer, value, name)\n"
     ]
    },
    {
     "data": {
      "text/plain": [
       "<AxesSubplot:>"
      ]
     },
     "execution_count": 3,
     "metadata": {},
     "output_type": "execute_result"
    },
    {
     "data": {
      "image/png": "[encoded data removed]",
      "text/plain": [
       "<Figure size 432x288 with 1 Axes>"
      ]
     },
     "metadata": {
      "needs_background": "light"
     },
     "output_type": "display_data"
    }
   ],
   "source": [
    "import numpy as np\n",
    "quarter=['Q1','Q2','Q3','Q4']\n",
    "n=cococola['Quarter'][0]\n",
    "n[0:2]\n",
    "\n",
    "cococola['quarter']=0\n",
    "\n",
    "for i in range(42):\n",
    "    n=cococola['Quarter'][i]\n",
    "    cococola['quarter'][i]=n[0:2]\n",
    "    \n",
    "dummy=pd.DataFrame(pd.get_dummies(cococola['quarter']))\n",
    "\n",
    "coco=pd.concat((cococola,dummy),axis=1)\n",
    "t= np.arange(1,43)\n",
    "coco['t']=t\n",
    "coco['t_square']=coco['t']*coco['t']\n",
    "\n",
    "log_Sales=np.log(coco['Sales'])\n",
    "coco['log_Sales']=log_Sales\n",
    "\n",
    "train= coco.head(38)\n",
    "test=coco.tail(4)\n",
    "coco.Sales.plot()"
   ]
  },
  {
   "cell_type": "code",
   "execution_count": 4,
   "id": "25de233b",
   "metadata": {
    "ExecuteTime": {
     "end_time": "2022-03-26T09:08:59.806850Z",
     "start_time": "2022-03-26T09:08:58.036561Z"
    }
   },
   "outputs": [
    {
     "data": {
      "text/plain": [
       "421.17878760022813"
      ]
     },
     "execution_count": 4,
     "metadata": {},
     "output_type": "execute_result"
    }
   ],
   "source": [
    "import statsmodels.formula.api as smf\n",
    "\n",
    "#linear model\n",
    "linear= smf.ols('Sales~t',data=train).fit()\n",
    "predlin=pd.Series(linear.predict(pd.DataFrame(test['t'])))\n",
    "rmselin=np.sqrt((np.mean(np.array(test['Sales'])-np.array(predlin))**2))\n",
    "rmselin"
   ]
  },
  {
   "cell_type": "code",
   "execution_count": 5,
   "id": "cda7ed8e",
   "metadata": {
    "ExecuteTime": {
     "end_time": "2022-03-26T09:09:55.403983Z",
     "start_time": "2022-03-26T09:09:55.355075Z"
    }
   },
   "outputs": [
    {
     "data": {
      "text/plain": [
       "475.56183518315095"
      ]
     },
     "execution_count": 5,
     "metadata": {},
     "output_type": "execute_result"
    }
   ],
   "source": [
    "#quadratic model\n",
    "quad=smf.ols('Sales~t+t_square',data=train).fit()\n",
    "predquad=pd.Series(quad.predict(pd.DataFrame(test[['t','t_square']])))\n",
    "rmsequad=np.sqrt(np.mean((np.array(test['Sales'])-np.array(predquad))**2))\n",
    "rmsequad"
   ]
  },
  {
   "cell_type": "code",
   "execution_count": 6,
   "id": "4f856d3a",
   "metadata": {
    "ExecuteTime": {
     "end_time": "2022-03-26T09:09:56.584946Z",
     "start_time": "2022-03-26T09:09:56.542058Z"
    }
   },
   "outputs": [
    {
     "data": {
      "text/plain": [
       "466.24797310672346"
      ]
     },
     "execution_count": 6,
     "metadata": {},
     "output_type": "execute_result"
    }
   ],
   "source": [
    "#exponential model\n",
    "expo=smf.ols('log_Sales~t',data=train).fit()\n",
    "predexp=pd.Series(expo.predict(pd.DataFrame(test['t'])))\n",
    "predexp\n",
    "rmseexpo=np.sqrt(np.mean((np.array(test['Sales'])-np.array(np.exp(predexp)))**2))\n",
    "rmseexpo"
   ]
  },
  {
   "cell_type": "code",
   "execution_count": 7,
   "id": "fdb1493f",
   "metadata": {
    "ExecuteTime": {
     "end_time": "2022-03-26T09:09:57.582999Z",
     "start_time": "2022-03-26T09:09:57.535128Z"
    }
   },
   "outputs": [
    {
     "data": {
      "text/plain": [
       "1860.0238154547283"
      ]
     },
     "execution_count": 7,
     "metadata": {},
     "output_type": "execute_result"
    }
   ],
   "source": [
    "#additive seasonality\n",
    "additive= smf.ols('Sales~ Q1+Q2+Q3+Q4',data=train).fit()\n",
    "predadd=pd.Series(additive.predict(pd.DataFrame(test[['Q1','Q2','Q3','Q4']])))\n",
    "predadd\n",
    "rmseadd=np.sqrt(np.mean((np.array(test['Sales'])-np.array(predadd))**2))\n",
    "rmseadd"
   ]
  },
  {
   "cell_type": "code",
   "execution_count": 8,
   "id": "dad0551d",
   "metadata": {
    "ExecuteTime": {
     "end_time": "2022-03-26T09:09:58.505327Z",
     "start_time": "2022-03-26T09:09:58.462442Z"
    }
   },
   "outputs": [
    {
     "data": {
      "text/plain": [
       "464.98290239822427"
      ]
     },
     "execution_count": 8,
     "metadata": {},
     "output_type": "execute_result"
    }
   ],
   "source": [
    "#additive seasonality with linear trend\n",
    "addlinear= smf.ols('Sales~t+Q1+Q2+Q3+Q4',data=train).fit()\n",
    "predaddlinear=pd.Series(addlinear.predict(pd.DataFrame(test[['t','Q1','Q2','Q3','Q4']])))\n",
    "predaddlinear\n",
    "\n",
    "rmseaddlinear=np.sqrt(np.mean((np.array(test['Sales'])-np.array(predaddlinear))**2))\n",
    "rmseaddlinear"
   ]
  },
  {
   "cell_type": "code",
   "execution_count": 9,
   "id": "41903f88",
   "metadata": {
    "ExecuteTime": {
     "end_time": "2022-03-26T09:09:59.549117Z",
     "start_time": "2022-03-26T09:09:59.491180Z"
    }
   },
   "outputs": [
    {
     "data": {
      "text/plain": [
       "301.73800719352977"
      ]
     },
     "execution_count": 9,
     "metadata": {},
     "output_type": "execute_result"
    }
   ],
   "source": [
    "#additive seasonality with quadratic trend\n",
    "addquad=smf.ols('Sales~t+t_square+Q1+Q2+Q3+Q4',data=train).fit()\n",
    "predaddquad=pd.Series(addquad.predict(pd.DataFrame(test[['t','t_square','Q1','Q2','Q3','Q4']])))\n",
    "rmseaddquad=np.sqrt(np.mean((np.array(test['Sales'])-np.array(predaddquad))**2))\n",
    "rmseaddquad"
   ]
  },
  {
   "cell_type": "code",
   "execution_count": 10,
   "id": "166a1a15",
   "metadata": {
    "ExecuteTime": {
     "end_time": "2022-03-26T09:10:00.519179Z",
     "start_time": "2022-03-26T09:10:00.462329Z"
    }
   },
   "outputs": [
    {
     "data": {
      "text/plain": [
       "1963.3896400779709"
      ]
     },
     "execution_count": 10,
     "metadata": {},
     "output_type": "execute_result"
    }
   ],
   "source": [
    "#multiplicative seasonality\n",
    "mulsea=smf.ols('log_Sales~Q1+Q2+Q3+Q4',data=train).fit()\n",
    "predmul= pd.Series(mulsea.predict(pd.DataFrame(test[['Q1','Q2','Q3','Q4']])))\n",
    "rmsemul= np.sqrt(np.mean((np.array(test['Sales'])-np.array(np.exp(predmul)))**2))\n",
    "rmsemul"
   ]
  },
  {
   "cell_type": "code",
   "execution_count": 11,
   "id": "b1d15484",
   "metadata": {
    "ExecuteTime": {
     "end_time": "2022-03-26T09:10:01.412917Z",
     "start_time": "2022-03-26T09:10:01.362051Z"
    }
   },
   "outputs": [
    {
     "data": {
      "text/plain": [
       "225.5243904982721"
      ]
     },
     "execution_count": 11,
     "metadata": {},
     "output_type": "execute_result"
    }
   ],
   "source": [
    "#multiplicative seasonality with linear trend\n",
    "mullin= smf.ols('log_Sales~t+Q1+Q2+Q3+Q4',data=train).fit()\n",
    "predmullin= pd.Series(mullin.predict(pd.DataFrame(test[['t','Q1','Q2','Q3','Q4']])))\n",
    "rmsemulin=np.sqrt(np.mean((np.array(test['Sales'])-np.array(np.exp(predmullin)))**2))\n",
    "rmsemulin"
   ]
  },
  {
   "cell_type": "code",
   "execution_count": 12,
   "id": "61c0f892",
   "metadata": {
    "ExecuteTime": {
     "end_time": "2022-03-26T09:10:02.495872Z",
     "start_time": "2022-03-26T09:10:02.439035Z"
    }
   },
   "outputs": [
    {
     "data": {
      "text/plain": [
       "581.8457187971785"
      ]
     },
     "execution_count": 12,
     "metadata": {},
     "output_type": "execute_result"
    }
   ],
   "source": [
    "#multiplicative seasonality with quadratic trend\n",
    "mul_quad= smf.ols('log_Sales~t+t_square+Q1+Q2+Q3+Q4',data=train).fit()\n",
    "pred_mul_quad= pd.Series(mul_quad.predict(test[['t','t_square','Q1','Q2','Q3','Q4']]))\n",
    "rmse_mul_quad=np.sqrt(np.mean((np.array(test['Sales'])-np.array(np.exp(pred_mul_quad)))**2))\n",
    "rmse_mul_quad"
   ]
  },
  {
   "cell_type": "code",
   "execution_count": 13,
   "id": "fdba5c24",
   "metadata": {
    "ExecuteTime": {
     "end_time": "2022-03-26T09:10:03.397612Z",
     "start_time": "2022-03-26T09:10:03.354727Z"
    }
   },
   "outputs": [
    {
     "data": {
      "text/html": [
       "<div>\n",
       "<style scoped>\n",
       "    .dataframe tbody tr th:only-of-type {\n",
       "        vertical-align: middle;\n",
       "    }\n",
       "\n",
       "    .dataframe tbody tr th {\n",
       "        vertical-align: top;\n",
       "    }\n",
       "\n",
       "    .dataframe thead th {\n",
       "        text-align: right;\n",
       "    }\n",
       "</style>\n",
       "<table border=\"1\" class=\"dataframe\">\n",
       "  <thead>\n",
       "    <tr style=\"text-align: right;\">\n",
       "      <th></th>\n",
       "      <th>Model</th>\n",
       "      <th>Values</th>\n",
       "    </tr>\n",
       "  </thead>\n",
       "  <tbody>\n",
       "    <tr>\n",
       "      <th>0</th>\n",
       "      <td>rmse_mul_quad</td>\n",
       "      <td>581.845719</td>\n",
       "    </tr>\n",
       "    <tr>\n",
       "      <th>1</th>\n",
       "      <td>rmseadd</td>\n",
       "      <td>1860.023815</td>\n",
       "    </tr>\n",
       "    <tr>\n",
       "      <th>2</th>\n",
       "      <td>rmseaddlinear</td>\n",
       "      <td>464.982902</td>\n",
       "    </tr>\n",
       "    <tr>\n",
       "      <th>3</th>\n",
       "      <td>rmseaddquad</td>\n",
       "      <td>301.738007</td>\n",
       "    </tr>\n",
       "    <tr>\n",
       "      <th>4</th>\n",
       "      <td>rmseexpo</td>\n",
       "      <td>466.247973</td>\n",
       "    </tr>\n",
       "    <tr>\n",
       "      <th>5</th>\n",
       "      <td>rmselin</td>\n",
       "      <td>421.178788</td>\n",
       "    </tr>\n",
       "    <tr>\n",
       "      <th>6</th>\n",
       "      <td>rmsemul</td>\n",
       "      <td>1963.389640</td>\n",
       "    </tr>\n",
       "    <tr>\n",
       "      <th>7</th>\n",
       "      <td>rmsemulin</td>\n",
       "      <td>225.524390</td>\n",
       "    </tr>\n",
       "    <tr>\n",
       "      <th>8</th>\n",
       "      <td>rmsequad</td>\n",
       "      <td>475.561835</td>\n",
       "    </tr>\n",
       "  </tbody>\n",
       "</table>\n",
       "</div>"
      ],
      "text/plain": [
       "           Model       Values\n",
       "0  rmse_mul_quad   581.845719\n",
       "1        rmseadd  1860.023815\n",
       "2  rmseaddlinear   464.982902\n",
       "3    rmseaddquad   301.738007\n",
       "4       rmseexpo   466.247973\n",
       "5        rmselin   421.178788\n",
       "6        rmsemul  1963.389640\n",
       "7      rmsemulin   225.524390\n",
       "8       rmsequad   475.561835"
      ]
     },
     "execution_count": 13,
     "metadata": {},
     "output_type": "execute_result"
    }
   ],
   "source": [
    "#tabulating the rmse values\n",
    "\n",
    "data={'Model':pd.Series(['rmse_mul_quad','rmseadd','rmseaddlinear','rmseaddquad','rmseexpo','rmselin','rmsemul','rmsemulin','rmsequad']),'Values':pd.Series([rmse_mul_quad,rmseadd,rmseaddlinear,rmseaddquad,rmseexpo,rmselin,rmsemul,rmsemulin,rmsequad])}\n",
    "data\n",
    "\n",
    "Rmse=pd.DataFrame(data)\n",
    "Rmse"
   ]
  },
  {
   "cell_type": "code",
   "execution_count": null,
   "id": "dcac2556",
   "metadata": {},
   "outputs": [],
   "source": []
  }
 ],
 "metadata": {
  "kernelspec": {
   "display_name": "Python 3",
   "language": "python",
   "name": "python3"
  },
  "language_info": {
   "codemirror_mode": {
    "name": "ipython",
    "version": 3
   },
   "file_extension": ".py",
   "mimetype": "text/x-python",
   "name": "python",
   "nbconvert_exporter": "python",
   "pygments_lexer": "ipython3",
   "version": "3.8.8"
  }
 },
 "nbformat": 4,
 "nbformat_minor": 5
}
