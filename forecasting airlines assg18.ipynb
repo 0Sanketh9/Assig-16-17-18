{
 "cells": [
  {
   "cell_type": "code",
   "execution_count": 1,
   "id": "3a4dc918",
   "metadata": {
    "ExecuteTime": {
     "end_time": "2022-03-26T09:15:55.590325Z",
     "start_time": "2022-03-26T09:15:53.693112Z"
    }
   },
   "outputs": [],
   "source": [
    "import pandas as pd\n",
    "import numpy as np\n",
    "import matplotlib.pyplot as plt\n",
    "import statsmodels.formula.api as snf"
   ]
  },
  {
   "cell_type": "code",
   "execution_count": 3,
   "id": "827a5ca7",
   "metadata": {
    "ExecuteTime": {
     "end_time": "2022-03-26T09:18:46.023347Z",
     "start_time": "2022-03-26T09:18:45.992427Z"
    }
   },
   "outputs": [],
   "source": [
    "Airlines=pd.read_csv('Airlines+Data.csv')"
   ]
  },
  {
   "cell_type": "code",
   "execution_count": 4,
   "id": "b50dafe2",
   "metadata": {
    "ExecuteTime": {
     "end_time": "2022-03-26T09:23:17.006984Z",
     "start_time": "2022-03-26T09:23:16.981055Z"
    }
   },
   "outputs": [
    {
     "data": {
      "text/html": [
       "<div>\n",
       "<style scoped>\n",
       "    .dataframe tbody tr th:only-of-type {\n",
       "        vertical-align: middle;\n",
       "    }\n",
       "\n",
       "    .dataframe tbody tr th {\n",
       "        vertical-align: top;\n",
       "    }\n",
       "\n",
       "    .dataframe thead th {\n",
       "        text-align: right;\n",
       "    }\n",
       "</style>\n",
       "<table border=\"1\" class=\"dataframe\">\n",
       "  <thead>\n",
       "    <tr style=\"text-align: right;\">\n",
       "      <th></th>\n",
       "      <th>Month</th>\n",
       "      <th>Passengers</th>\n",
       "    </tr>\n",
       "  </thead>\n",
       "  <tbody>\n",
       "    <tr>\n",
       "      <th>0</th>\n",
       "      <td>Jan-95</td>\n",
       "      <td>112</td>\n",
       "    </tr>\n",
       "    <tr>\n",
       "      <th>1</th>\n",
       "      <td>Feb-95</td>\n",
       "      <td>118</td>\n",
       "    </tr>\n",
       "    <tr>\n",
       "      <th>2</th>\n",
       "      <td>Mar-95</td>\n",
       "      <td>132</td>\n",
       "    </tr>\n",
       "    <tr>\n",
       "      <th>3</th>\n",
       "      <td>Apr-95</td>\n",
       "      <td>129</td>\n",
       "    </tr>\n",
       "    <tr>\n",
       "      <th>4</th>\n",
       "      <td>May-95</td>\n",
       "      <td>121</td>\n",
       "    </tr>\n",
       "  </tbody>\n",
       "</table>\n",
       "</div>"
      ],
      "text/plain": [
       "    Month  Passengers\n",
       "0  Jan-95         112\n",
       "1  Feb-95         118\n",
       "2  Mar-95         132\n",
       "3  Apr-95         129\n",
       "4  May-95         121"
      ]
     },
     "execution_count": 4,
     "metadata": {},
     "output_type": "execute_result"
    }
   ],
   "source": [
    "Airlines.head()"
   ]
  },
  {
   "cell_type": "code",
   "execution_count": 5,
   "id": "b74056b4",
   "metadata": {
    "ExecuteTime": {
     "end_time": "2022-03-26T09:23:20.480881Z",
     "start_time": "2022-03-26T09:23:20.461932Z"
    }
   },
   "outputs": [
    {
     "data": {
      "text/plain": [
       "Month         0\n",
       "Passengers    0\n",
       "dtype: int64"
      ]
     },
     "execution_count": 5,
     "metadata": {},
     "output_type": "execute_result"
    }
   ],
   "source": [
    "Airlines.isnull().sum()"
   ]
  },
  {
   "cell_type": "code",
   "execution_count": 6,
   "id": "60b8a16d",
   "metadata": {
    "ExecuteTime": {
     "end_time": "2022-03-26T09:23:21.872515Z",
     "start_time": "2022-03-26T09:23:21.851568Z"
    }
   },
   "outputs": [
    {
     "data": {
      "text/html": [
       "<div>\n",
       "<style scoped>\n",
       "    .dataframe tbody tr th:only-of-type {\n",
       "        vertical-align: middle;\n",
       "    }\n",
       "\n",
       "    .dataframe tbody tr th {\n",
       "        vertical-align: top;\n",
       "    }\n",
       "\n",
       "    .dataframe thead th {\n",
       "        text-align: right;\n",
       "    }\n",
       "</style>\n",
       "<table border=\"1\" class=\"dataframe\">\n",
       "  <thead>\n",
       "    <tr style=\"text-align: right;\">\n",
       "      <th></th>\n",
       "      <th>Month</th>\n",
       "      <th>Passengers</th>\n",
       "      <th>months</th>\n",
       "    </tr>\n",
       "  </thead>\n",
       "  <tbody>\n",
       "    <tr>\n",
       "      <th>0</th>\n",
       "      <td>Jan-95</td>\n",
       "      <td>112</td>\n",
       "      <td>0</td>\n",
       "    </tr>\n",
       "    <tr>\n",
       "      <th>1</th>\n",
       "      <td>Feb-95</td>\n",
       "      <td>118</td>\n",
       "      <td>0</td>\n",
       "    </tr>\n",
       "    <tr>\n",
       "      <th>2</th>\n",
       "      <td>Mar-95</td>\n",
       "      <td>132</td>\n",
       "      <td>0</td>\n",
       "    </tr>\n",
       "    <tr>\n",
       "      <th>3</th>\n",
       "      <td>Apr-95</td>\n",
       "      <td>129</td>\n",
       "      <td>0</td>\n",
       "    </tr>\n",
       "    <tr>\n",
       "      <th>4</th>\n",
       "      <td>May-95</td>\n",
       "      <td>121</td>\n",
       "      <td>0</td>\n",
       "    </tr>\n",
       "  </tbody>\n",
       "</table>\n",
       "</div>"
      ],
      "text/plain": [
       "    Month  Passengers  months\n",
       "0  Jan-95         112       0\n",
       "1  Feb-95         118       0\n",
       "2  Mar-95         132       0\n",
       "3  Apr-95         129       0\n",
       "4  May-95         121       0"
      ]
     },
     "execution_count": 6,
     "metadata": {},
     "output_type": "execute_result"
    }
   ],
   "source": [
    "months=[\"Jan\",\"Feb\",\"Mar\",\"Apr\",\"May\",\"Jun\",\"Jul\",\"Aug\",\"Sep\",\"Oct\",\"Nov\",\"Dec\"]\n",
    "p=Airlines[\"Month\"][0]\n",
    "p[0:3]\n",
    "Airlines[\"months\"]=0\n",
    "Airlines.head()"
   ]
  },
  {
   "cell_type": "code",
   "execution_count": 7,
   "id": "87bf0538",
   "metadata": {
    "ExecuteTime": {
     "end_time": "2022-03-26T09:23:23.479280Z",
     "start_time": "2022-03-26T09:23:23.371814Z"
    }
   },
   "outputs": [
    {
     "name": "stderr",
     "output_type": "stream",
     "text": [
      "<ipython-input-7-d62eeb441a77>:3: SettingWithCopyWarning: \n",
      "A value is trying to be set on a copy of a slice from a DataFrame\n",
      "\n",
      "See the caveats in the documentation: https://pandas.pydata.org/pandas-docs/stable/user_guide/indexing.html#returning-a-view-versus-a-copy\n",
      "  Airlines[\"months\"][i]=p[0:3]\n",
      "C:\\Users\\DELL\\anaconda3\\lib\\site-packages\\pandas\\core\\indexing.py:1637: SettingWithCopyWarning: \n",
      "A value is trying to be set on a copy of a slice from a DataFrame\n",
      "\n",
      "See the caveats in the documentation: https://pandas.pydata.org/pandas-docs/stable/user_guide/indexing.html#returning-a-view-versus-a-copy\n",
      "  self._setitem_single_block(indexer, value, name)\n"
     ]
    }
   ],
   "source": [
    "for i in range(96):\n",
    "    p=Airlines[\"Month\"][i]\n",
    "    Airlines[\"months\"][i]=p[0:3]"
   ]
  },
  {
   "cell_type": "code",
   "execution_count": 8,
   "id": "5074dcc4",
   "metadata": {
    "ExecuteTime": {
     "end_time": "2022-03-26T09:23:25.386499Z",
     "start_time": "2022-03-26T09:23:25.364557Z"
    }
   },
   "outputs": [],
   "source": [
    "month_dummies=pd.DataFrame(pd.get_dummies(Airlines[\"months\"]))\n",
    "month_dummies=month_dummies.iloc[:,[4,3,7,0,8,6,5,1,11,10,9,2]]"
   ]
  },
  {
   "cell_type": "code",
   "execution_count": 9,
   "id": "9634a7f4",
   "metadata": {
    "ExecuteTime": {
     "end_time": "2022-03-26T09:23:29.273098Z",
     "start_time": "2022-03-26T09:23:29.226567Z"
    }
   },
   "outputs": [],
   "source": [
    "Airlines1=pd.concat([Airlines,month_dummies],axis=1)\n",
    "Airlines1[\"t\"]=np.arange(1,97)\n",
    "Airlines1[\"t_Squared\"]=Airlines1[\"t\"]*Airlines1[\"t\"]\n",
    "Airlines1[\"log_passengers\"]=np.log(Airlines[\"Passengers\"])"
   ]
  },
  {
   "cell_type": "code",
   "execution_count": 10,
   "id": "19ac5d03",
   "metadata": {
    "ExecuteTime": {
     "end_time": "2022-03-26T09:23:31.382490Z",
     "start_time": "2022-03-26T09:23:31.121335Z"
    }
   },
   "outputs": [
    {
     "data": {
      "text/plain": [
       "<AxesSubplot:>"
      ]
     },
     "execution_count": 10,
     "metadata": {},
     "output_type": "execute_result"
    },
    {
     "data": {
      "image/png": "[encoded data removed]",
      "text/plain": [
       "<Figure size 432x288 with 1 Axes>"
      ]
     },
     "metadata": {
      "needs_background": "light"
     },
     "output_type": "display_data"
    }
   ],
   "source": [
    "Airlines1.Passengers.plot(style=\"k\")"
   ]
  },
  {
   "cell_type": "code",
   "execution_count": 11,
   "id": "e45e4295",
   "metadata": {
    "ExecuteTime": {
     "end_time": "2022-03-26T09:23:32.790190Z",
     "start_time": "2022-03-26T09:23:32.770279Z"
    }
   },
   "outputs": [],
   "source": [
    "Train=Airlines1.head(80)\n",
    "Test=Airlines1.tail(16)\n",
    "Test=Test.set_index(np.arange(1,17))"
   ]
  },
  {
   "cell_type": "code",
   "execution_count": 12,
   "id": "e638d277",
   "metadata": {
    "ExecuteTime": {
     "end_time": "2022-03-26T09:23:35.573025Z",
     "start_time": "2022-03-26T09:23:35.520165Z"
    }
   },
   "outputs": [
    {
     "data": {
      "text/plain": [
       "47.54262406772677"
      ]
     },
     "execution_count": 12,
     "metadata": {},
     "output_type": "execute_result"
    }
   ],
   "source": [
    "Lin_model=snf.ols(\"Passengers~t\",data=Train).fit()\n",
    "Lin_pred=pd.Series(Lin_model.predict(pd.DataFrame(Test[\"t\"])))\n",
    "Lin_rmse=np.sqrt(np.mean((np.array(Test[\"Passengers\"])-np.array(Lin_pred))**2))\n",
    "Lin_rmse"
   ]
  },
  {
   "cell_type": "code",
   "execution_count": 13,
   "id": "07d8f430",
   "metadata": {
    "ExecuteTime": {
     "end_time": "2022-03-26T09:23:36.828720Z",
     "start_time": "2022-03-26T09:23:36.791817Z"
    }
   },
   "outputs": [
    {
     "data": {
      "text/plain": [
       "43.79373939334308"
      ]
     },
     "execution_count": 13,
     "metadata": {},
     "output_type": "execute_result"
    }
   ],
   "source": [
    "Exp_model=snf.ols(\"log_passengers~t\",data=Train).fit()\n",
    "Exp_pred=pd.Series(Exp_model.predict(pd.DataFrame(Test[\"t\"])))\n",
    "Exp_rmse=np.sqrt(np.mean((np.array(Test[\"Passengers\"])-np.array(np.exp(Exp_pred)))**2))\n",
    "Exp_rmse"
   ]
  },
  {
   "cell_type": "code",
   "execution_count": 14,
   "id": "63a4c92d",
   "metadata": {
    "ExecuteTime": {
     "end_time": "2022-03-26T09:23:38.114865Z",
     "start_time": "2022-03-26T09:23:38.076933Z"
    }
   },
   "outputs": [
    {
     "data": {
      "text/plain": [
       "43.65440369584248"
      ]
     },
     "execution_count": 14,
     "metadata": {},
     "output_type": "execute_result"
    }
   ],
   "source": [
    "Quad_model=snf.ols(\"Passengers~t+t_Squared\",data=Train).fit()\n",
    "Quad_pred=pd.Series(Quad_model.predict(pd.DataFrame(Test[[\"t\",\"t_Squared\"]])))\n",
    "Quad_rmse=np.sqrt(np.mean((np.array(Test[\"Passengers\"])-np.array(Quad_pred))**2))\n",
    "Quad_rmse"
   ]
  },
  {
   "cell_type": "code",
   "execution_count": 15,
   "id": "8d84c9bb",
   "metadata": {
    "ExecuteTime": {
     "end_time": "2022-03-26T09:23:39.379033Z",
     "start_time": "2022-03-26T09:23:39.296268Z"
    }
   },
   "outputs": [],
   "source": [
    "Add_sea=snf.ols(\"Passengers~Jan+Feb+Mar+Apr+May+Jun+Jul+Aug+Sep+Oct+Nov+Dec\",data=Train).fit() \n",
    "Add_sea_pred=pd.Series(Add_sea.predict(Test[[\"Jan\",\"Feb\",\"Mar\",\"Apr\",\"May\",\"Jun\",\"Jul\",\"Aug\",\"Sep\",\"Oct\",\"Nov\",\"Dec\"]]))\n",
    "Add_sea_rmse=np.sqrt(np.mean((np.array(Test[\"Passengers\"])-np.array(Add_sea_pred))**2))"
   ]
  },
  {
   "cell_type": "code",
   "execution_count": 16,
   "id": "9893a0c9",
   "metadata": {
    "ExecuteTime": {
     "end_time": "2022-03-26T09:23:41.448188Z",
     "start_time": "2022-03-26T09:23:41.438218Z"
    }
   },
   "outputs": [
    {
     "data": {
      "text/plain": [
       "129.26647641443301"
      ]
     },
     "execution_count": 16,
     "metadata": {},
     "output_type": "execute_result"
    }
   ],
   "source": [
    "Add_sea_rmse"
   ]
  },
  {
   "cell_type": "code",
   "execution_count": 17,
   "id": "5b182777",
   "metadata": {
    "ExecuteTime": {
     "end_time": "2022-03-26T09:23:42.786097Z",
     "start_time": "2022-03-26T09:23:42.692347Z"
    }
   },
   "outputs": [
    {
     "data": {
      "text/plain": [
       "23.910983570103003"
      ]
     },
     "execution_count": 17,
     "metadata": {},
     "output_type": "execute_result"
    }
   ],
   "source": [
    "Add_sea_Quad=snf.ols(\"Passengers~Jan+Feb+Mar+Apr+May+Jun+Jul+Aug+Sep+Oct+Nov+Dec+t+t_Squared\",data=Train).fit() \n",
    "Add_sea_Quad_pred=pd.Series(Add_sea_Quad.predict(Test[[\"Jan\",\"Feb\",\"Mar\",\"Apr\",\"May\",\"Jun\",\"Jul\",\"Aug\",\"Sep\",\"Oct\",\"Nov\",\"Dec\",\"t\",\"t_Squared\"]]))\n",
    "Add_sea_Quad_rmse=np.sqrt(np.mean((np.array(Test[\"Passengers\"])-np.array(Add_sea_Quad_pred))**2))\n",
    "Add_sea_Quad_rmse"
   ]
  },
  {
   "cell_type": "code",
   "execution_count": 18,
   "id": "1b401011",
   "metadata": {
    "ExecuteTime": {
     "end_time": "2022-03-26T09:23:45.430626Z",
     "start_time": "2022-03-26T09:23:45.346815Z"
    }
   },
   "outputs": [],
   "source": [
    "Mul_ad_sea=snf.ols(\"log_passengers~Jan+Feb+Mar+Apr+May+Jun+Jul+Aug+Sep+Oct+Nov+Dec\",data=Train).fit()\n",
    "Mul_ad_sea_pred=pd.Series(Mul_ad_sea.predict(Test[[\"Jan\",\"Feb\",\"Mar\",\"Apr\",\"May\",\"Jun\",\"Jul\",\"Aug\",\"Sep\",\"Oct\",\"Nov\",\"Dec\"]]))\n",
    "Mul_ad_rmse=np.sqrt(np.mean((np.array(Test[\"Passengers\"])-np.array(np.exp(Mul_ad_sea_pred)))**2))"
   ]
  },
  {
   "cell_type": "code",
   "execution_count": 19,
   "id": "ec3d8edf",
   "metadata": {
    "ExecuteTime": {
     "end_time": "2022-03-26T09:23:48.927886Z",
     "start_time": "2022-03-26T09:23:48.909927Z"
    }
   },
   "outputs": [
    {
     "data": {
      "text/plain": [
       "135.32648414621056"
      ]
     },
     "execution_count": 19,
     "metadata": {},
     "output_type": "execute_result"
    }
   ],
   "source": [
    "Mul_ad_rmse"
   ]
  },
  {
   "cell_type": "code",
   "execution_count": 20,
   "id": "3faab37a",
   "metadata": {
    "ExecuteTime": {
     "end_time": "2022-03-26T09:23:50.180961Z",
     "start_time": "2022-03-26T09:23:50.094194Z"
    }
   },
   "outputs": [],
   "source": [
    "Mul_ad_Quad_sea=snf.ols(\"log_passengers~Jan+Feb+Mar+Apr+May+Jun+Jul+Aug+Sep+Oct+Nov+Dec+t+t_Squared\",data=Train).fit()\n",
    "Mul_ad_Quad_sea_pred=pd.Series(Mul_ad_Quad_sea.predict(Test[[\"Jan\",\"Feb\",\"Mar\",\"Apr\",\"May\",\"Jun\",\"Jul\",\"Aug\",\"Sep\",\"Oct\",\"Nov\",\"Dec\",\"t\",\"t_Squared\"]]))\n",
    "Mul_ad_sea_rmse=np.sqrt(np.mean((np.array(Test[\"Passengers\"])-np.array(np.exp(Mul_ad_Quad_sea_pred)))**2))"
   ]
  },
  {
   "cell_type": "code",
   "execution_count": 21,
   "id": "2c07e50c",
   "metadata": {
    "ExecuteTime": {
     "end_time": "2022-03-26T09:23:51.747043Z",
     "start_time": "2022-03-26T09:23:51.728435Z"
    }
   },
   "outputs": [
    {
     "data": {
      "text/plain": [
       "23.08634854595413"
      ]
     },
     "execution_count": 21,
     "metadata": {},
     "output_type": "execute_result"
    }
   ],
   "source": [
    "Mul_ad_sea_rmse"
   ]
  },
  {
   "cell_type": "code",
   "execution_count": 25,
   "id": "e645cdb5",
   "metadata": {
    "ExecuteTime": {
     "end_time": "2022-03-26T09:25:32.068036Z",
     "start_time": "2022-03-26T09:25:32.039103Z"
    }
   },
   "outputs": [
    {
     "data": {
      "text/html": [
       "<div>\n",
       "<style scoped>\n",
       "    .dataframe tbody tr th:only-of-type {\n",
       "        vertical-align: middle;\n",
       "    }\n",
       "\n",
       "    .dataframe tbody tr th {\n",
       "        vertical-align: top;\n",
       "    }\n",
       "\n",
       "    .dataframe thead th {\n",
       "        text-align: right;\n",
       "    }\n",
       "</style>\n",
       "<table border=\"1\" class=\"dataframe\">\n",
       "  <thead>\n",
       "    <tr style=\"text-align: right;\">\n",
       "      <th></th>\n",
       "      <th>MODEL</th>\n",
       "      <th>RMSE_Values</th>\n",
       "    </tr>\n",
       "  </thead>\n",
       "  <tbody>\n",
       "    <tr>\n",
       "      <th>0</th>\n",
       "      <td>Lin_rmse</td>\n",
       "      <td>47.542624</td>\n",
       "    </tr>\n",
       "    <tr>\n",
       "      <th>1</th>\n",
       "      <td>Exp_rmse</td>\n",
       "      <td>43.793739</td>\n",
       "    </tr>\n",
       "    <tr>\n",
       "      <th>2</th>\n",
       "      <td>Quad_rmse</td>\n",
       "      <td>43.654404</td>\n",
       "    </tr>\n",
       "    <tr>\n",
       "      <th>3</th>\n",
       "      <td>Add_sea_rmse</td>\n",
       "      <td>129.266476</td>\n",
       "    </tr>\n",
       "    <tr>\n",
       "      <th>4</th>\n",
       "      <td>Add_sea_Quad_rmse</td>\n",
       "      <td>23.910984</td>\n",
       "    </tr>\n",
       "    <tr>\n",
       "      <th>5</th>\n",
       "      <td>Mul_ad_rmse</td>\n",
       "      <td>135.326484</td>\n",
       "    </tr>\n",
       "    <tr>\n",
       "      <th>6</th>\n",
       "      <td>Mul_ad_sea_rmse</td>\n",
       "      <td>23.086349</td>\n",
       "    </tr>\n",
       "  </tbody>\n",
       "</table>\n",
       "</div>"
      ],
      "text/plain": [
       "               MODEL  RMSE_Values\n",
       "0           Lin_rmse    47.542624\n",
       "1           Exp_rmse    43.793739\n",
       "2          Quad_rmse    43.654404\n",
       "3       Add_sea_rmse   129.266476\n",
       "4  Add_sea_Quad_rmse    23.910984\n",
       "5        Mul_ad_rmse   135.326484\n",
       "6    Mul_ad_sea_rmse    23.086349"
      ]
     },
     "execution_count": 25,
     "metadata": {},
     "output_type": "execute_result"
    }
   ],
   "source": [
    "data = {\"MODEL\":pd.Series([\"Lin_rmse\",\"Exp_rmse\",\"Quad_rmse\",\"Add_sea_rmse\",\"Add_sea_Quad_rmse\",\"Mul_ad_rmse\",\"Mul_ad_sea_rmse\"]),\"RMSE_Values\":pd.Series([Lin_rmse,Exp_rmse,Quad_rmse,Add_sea_rmse,Add_sea_Quad_rmse,Mul_ad_rmse,Mul_ad_sea_rmse])}\n",
    "table_rmse=pd.DataFrame(data)\n",
    "table_rmse"
   ]
  },
  {
   "cell_type": "code",
   "execution_count": 23,
   "id": "e7f6cdac",
   "metadata": {
    "ExecuteTime": {
     "end_time": "2022-03-26T09:23:54.663986Z",
     "start_time": "2022-03-26T09:23:54.608139Z"
    }
   },
   "outputs": [],
   "source": [
    "model_final=snf.ols(\"log_passengers~Jan+Feb+Mar+Apr+May+Jun+Jul+Aug+Sep+Oct+Nov+Dec+t+t_Squared\",data=Airlines1).fit()"
   ]
  },
  {
   "cell_type": "code",
   "execution_count": 24,
   "id": "1c8b870e",
   "metadata": {
    "ExecuteTime": {
     "end_time": "2022-03-26T09:23:56.031008Z",
     "start_time": "2022-03-26T09:23:56.011063Z"
    }
   },
   "outputs": [
    {
     "data": {
      "text/plain": [
       "<statsmodels.regression.linear_model.RegressionResultsWrapper at 0x2c02f04e8e0>"
      ]
     },
     "execution_count": 24,
     "metadata": {},
     "output_type": "execute_result"
    }
   ],
   "source": [
    "model_final"
   ]
  }
 ],
 "metadata": {
  "kernelspec": {
   "display_name": "Python 3",
   "language": "python",
   "name": "python3"
  },
  "language_info": {
   "codemirror_mode": {
    "name": "ipython",
    "version": 3
   },
   "file_extension": ".py",
   "mimetype": "text/x-python",
   "name": "python",
   "nbconvert_exporter": "python",
   "pygments_lexer": "ipython3",
   "version": "3.8.8"
  }
 },
 "nbformat": 4,
 "nbformat_minor": 5
}
